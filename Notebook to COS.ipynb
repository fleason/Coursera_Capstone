{
    "nbformat_minor": 1, 
    "cells": [
        {
            "source": "Import methods, define COS functions and credentials.", 
            "cell_type": "markdown", 
            "metadata": {}
        }, 
        {
            "source": "from pathlib import Path\nfrom zipfile import ZipFile\nfrom io import BytesIO  \nimport requests  \nimport json  \nimport pandas as pd\nfrom ibm_botocore.client import Config\nimport ibm_boto3", 
            "cell_type": "code", 
            "metadata": {}, 
            "outputs": [], 
            "execution_count": 1
        }, 
        {
            "source": "def upload_file_cos(credentials,local_file_name,key):  \n    cos = ibm_boto3.client(service_name='s3',\n    ibm_api_key_id=credentials['IBM_API_KEY_ID'],\n    ibm_service_instance_id=credentials['IAM_SERVICE_ID'],\n    ibm_auth_endpoint=credentials['IBM_AUTH_ENDPOINT'],\n    config=Config(signature_version='oauth'),\n    endpoint_url=credentials['ENDPOINT'])\n    try:\n        res=cos.upload_file(Filename=local_file_name, Bucket=credentials['BUCKET'],Key=key)\n    except Exception as e:\n        print(Exception, e)\n    else:\n        print('File Uploaded')", 
            "cell_type": "code", 
            "metadata": {}, 
            "outputs": [], 
            "execution_count": 3
        }, 
        {
            "source": "def download_file_cos(credentials,local_file_name,key):  \n    cos = ibm_boto3.client(service_name='s3',\n    ibm_api_key_id=credentials['IBM_API_KEY_ID'],\n    ibm_service_instance_id=credentials['IAM_SERVICE_ID'],\n    ibm_auth_endpoint=credentials['IBM_AUTH_ENDPOINT'],\n    config=Config(signature_version='oauth'),\n    endpoint_url=credentials['ENDPOINT'])\n    try:\n        res=cos.download_file(Bucket=credentials['BUCKET'],Key=key,Filename=local_file_name)\n    except Exception as e:\n        print(Exception, e)\n    else:\n        print('File Downloaded')", 
            "cell_type": "code", 
            "metadata": {}, 
            "outputs": [], 
            "execution_count": 4
        }, 
        {
            "source": "# @hidden_cell\n# The following code contains the credentials for a file in your IBM Cloud Object Storage.\n# You might want to remove those credentials before you share your notebook.\ncredentials_3 = {\n    'IAM_SERVICE_ID': 'iam-ServiceId-e5e81556-000f-4d93-86d4-b60748f7fe20',\n    'IBM_API_KEY_ID': 'aNSEN31wTP6yZ20pw5EHvlrvMRBa1wK97un-2eiazXn5',\n    'ENDPOINT': 'https://s3-api.us-geo.objectstorage.service.networklayer.com',\n    'IBM_AUTH_ENDPOINT': 'https://iam.bluemix.net/oidc/token',\n    'BUCKET': 'courseracapstone-donotdelete-pr-5lsxokvrardkjz',\n    'FILE': 'Neighborhoods.csv'\n}", 
            "cell_type": "code", 
            "metadata": {
                "scrolled": true
            }, 
            "outputs": [], 
            "execution_count": 5
        }, 
        {
            "source": "Get Washington License information", 
            "cell_type": "markdown", 
            "metadata": {}
        }, 
        {
            "source": "#!wget -O OnPremise.xls https://lcb.wa.gov/sites/default/files/publications/Public_Records/2019/On%20Premise.xls", 
            "cell_type": "code", 
            "metadata": {}, 
            "outputs": [
                {
                    "output_type": "stream", 
                    "name": "stdout", 
                    "text": "--2019-06-06 18:52:49--  https://lcb.wa.gov/sites/default/files/publications/Public_Records/2019/On%20Premise.xls\nResolving lcb.wa.gov (lcb.wa.gov)... 54.200.32.191, 54.71.211.209\nConnecting to lcb.wa.gov (lcb.wa.gov)|54.200.32.191|:443... connected.\nHTTP request sent, awaiting response... 200 OK\nLength: 5700096 (5.4M) [application/vnd.ms-excel]\nSaving to: \u2018OnPremise.xls\u2019\n\n100%[======================================>] 5,700,096   11.2MB/s   in 0.5s   \n\n2019-06-06 18:52:50 (11.2 MB/s) - \u2018OnPremise.xls\u2019 saved [5700096/5700096]\n\n"
                }
            ], 
            "execution_count": 3
        }, 
        {
            "source": "Create Washington License dataframe and write to re-useable csv.", 
            "cell_type": "markdown", 
            "metadata": {}
        }, 
        {
            "source": "#WAOnPrem = pd.read_excel(\"OnPremise.xls\")\n#WAOnPrem.to_csv(path_or_buf='OnPremise.csv', index=False )", 
            "cell_type": "code", 
            "metadata": {}, 
            "outputs": [], 
            "execution_count": 9
        }, 
        {
            "source": "p = Path('./')\nlist(file.name for file in p.glob('*'))", 
            "cell_type": "code", 
            "metadata": {}, 
            "outputs": [
                {
                    "output_type": "execute_result", 
                    "data": {
                        "text/plain": "[]"
                    }, 
                    "execution_count": 2, 
                    "metadata": {}
                }
            ], 
            "execution_count": 2
        }, 
        {
            "source": "Upload Washington License csv to COS", 
            "cell_type": "markdown", 
            "metadata": {}
        }, 
        {
            "source": "#upload_file_cos (credentials_3,'OnPremise.csv','OnPremise.csv')", 
            "cell_type": "code", 
            "metadata": {}, 
            "outputs": [
                {
                    "output_type": "stream", 
                    "name": "stdout", 
                    "text": "File Uploaded\n"
                }
            ], 
            "execution_count": 16
        }, 
        {
            "source": "Download Washington License csv from COS and recreate dataframe", 
            "cell_type": "markdown", 
            "metadata": {}
        }, 
        {
            "source": "download_file_cos (credentials_3,'OnPremise.csv','OnPremise.csv')", 
            "cell_type": "code", 
            "metadata": {}, 
            "outputs": [
                {
                    "output_type": "stream", 
                    "name": "stdout", 
                    "text": "File Downloaded\n"
                }
            ], 
            "execution_count": 6
        }, 
        {
            "source": "p = Path('./')\nlist(file.name for file in p.glob('*'))", 
            "cell_type": "code", 
            "metadata": {}, 
            "outputs": [
                {
                    "output_type": "execute_result", 
                    "data": {
                        "text/plain": "['OnPremise.csv']"
                    }, 
                    "execution_count": 7, 
                    "metadata": {}
                }
            ], 
            "execution_count": 7
        }, 
        {
            "source": "WAOnPrem = pd.read_csv(\"OnPremise.csv\")", 
            "cell_type": "code", 
            "metadata": {}, 
            "outputs": [], 
            "execution_count": 8
        }, 
        {
            "source": "WAOnPrem.head()", 
            "cell_type": "code", 
            "metadata": {}, 
            "outputs": [
                {
                    "output_type": "execute_result", 
                    "data": {
                        "text/html": "<div>\n<style scoped>\n    .dataframe tbody tr th:only-of-type {\n        vertical-align: middle;\n    }\n\n    .dataframe tbody tr th {\n        vertical-align: top;\n    }\n\n    .dataframe thead th {\n        text-align: right;\n    }\n</style>\n<table border=\"1\" class=\"dataframe\">\n  <thead>\n    <tr style=\"text-align: right;\">\n      <th></th>\n      <th>Tradename</th>\n      <th>License Number</th>\n      <th>Unnamed: 2</th>\n      <th>ID Number</th>\n      <th>Unnamed: 4</th>\n      <th>Loc Address</th>\n      <th>Loc Room</th>\n      <th>Loc City</th>\n      <th>Loc St</th>\n      <th>Loc Zip</th>\n      <th>...</th>\n      <th>Business Startup Date</th>\n      <th>Issue Date</th>\n      <th>Expire Date</th>\n      <th>Privilege</th>\n      <th>Application Date</th>\n      <th>Reason Description</th>\n      <th>County</th>\n      <th>Status</th>\n      <th>Night Phone</th>\n      <th>Licensee</th>\n    </tr>\n  </thead>\n  <tbody>\n    <tr>\n      <th>0</th>\n      <td>'AMONOS! MEXICAN KITCHEN</td>\n      <td>409730</td>\n      <td>NaN</td>\n      <td>6033641060010001</td>\n      <td>NaN</td>\n      <td>15321 MAIN ST NE STE 201</td>\n      <td></td>\n      <td>DUVALL</td>\n      <td>WA</td>\n      <td>980198574</td>\n      <td>...</td>\n      <td>20180327</td>\n      <td>20190207</td>\n      <td>20200131</td>\n      <td>BEER/WINE REST - BEER/WINE</td>\n      <td>20190207</td>\n      <td>RENEWAL</td>\n      <td>KING</td>\n      <td>ACTIVE (ISSUED)</td>\n      <td>2062341746</td>\n      <td>NIKOS NORTHWEST LLC</td>\n    </tr>\n    <tr>\n      <th>1</th>\n      <td>/NA:M/ THAI CUISINE</td>\n      <td>76997</td>\n      <td>NaN</td>\n      <td>6028006010010001</td>\n      <td>NaN</td>\n      <td>1404 34TH AVE</td>\n      <td></td>\n      <td>SEATTLE</td>\n      <td>WA</td>\n      <td>981223334</td>\n      <td>...</td>\n      <td>20090608</td>\n      <td>20190212</td>\n      <td>20200229</td>\n      <td>SPIRITS/BR/WN REST LOUNGE +</td>\n      <td>20190212</td>\n      <td>RENEWAL</td>\n      <td>KING</td>\n      <td>ACTIVE (ISSUED)</td>\n      <td>2063544900</td>\n      <td>W2K LLC</td>\n    </tr>\n    <tr>\n      <th>2</th>\n      <td>00 PIZZA</td>\n      <td>409193</td>\n      <td>NaN</td>\n      <td>6029630190010002</td>\n      <td>NaN</td>\n      <td>31217 124TH AVE SE STE 6</td>\n      <td></td>\n      <td>AUBURN</td>\n      <td>WA</td>\n      <td>980923618</td>\n      <td>...</td>\n      <td>20121015</td>\n      <td>20171104</td>\n      <td>20181031</td>\n      <td>BEER/WINE REST - BEER/WINE</td>\n      <td>20171104</td>\n      <td>RENEWAL</td>\n      <td>KING</td>\n      <td>ACTIVE (ISSUED)</td>\n      <td>2069542522</td>\n      <td>ORGANICWAY, LLC</td>\n    </tr>\n    <tr>\n      <th>3</th>\n      <td>028 BARBER SHOP</td>\n      <td>426995</td>\n      <td>NaN</td>\n      <td>6042693900010001</td>\n      <td>NaN</td>\n      <td>14031 NE WOODINVILLE DUVALL RD</td>\n      <td></td>\n      <td>WOODINVILLE</td>\n      <td>WA</td>\n      <td>980728504</td>\n      <td>...</td>\n      <td>20181115</td>\n      <td>20190306</td>\n      <td>20200331</td>\n      <td>SNACK BAR</td>\n      <td>20190306</td>\n      <td>RENEWAL</td>\n      <td>KING</td>\n      <td>ACTIVE (ISSUED)</td>\n      <td>4258693670</td>\n      <td>NEW EASTHILL, LLC</td>\n    </tr>\n    <tr>\n      <th>4</th>\n      <td>101 BAR &amp; GRILL</td>\n      <td>353737</td>\n      <td>NaN</td>\n      <td>6028914650010001</td>\n      <td>NaN</td>\n      <td>322 LINCOLN ST</td>\n      <td></td>\n      <td>HOQUIAM</td>\n      <td>WA</td>\n      <td>985501409</td>\n      <td>...</td>\n      <td>20090317</td>\n      <td>20190129</td>\n      <td>20200131</td>\n      <td>SPIRITS/BR/WN REST LOUNGE -</td>\n      <td>20190129</td>\n      <td>RENEWAL</td>\n      <td>GRAYS HARBOR</td>\n      <td>ACTIVE (ISSUED)</td>\n      <td>2535663698</td>\n      <td>PIG, INC</td>\n    </tr>\n  </tbody>\n</table>\n<p>5 rows \u00d7 25 columns</p>\n</div>", 
                        "text/plain": "                                       Tradename  License Number  Unnamed: 2  \\\n0  'AMONOS! MEXICAN KITCHEN                               409730         NaN   \n1  /NA:M/ THAI CUISINE                                     76997         NaN   \n2  00 PIZZA                                               409193         NaN   \n3  028 BARBER SHOP                                        426995         NaN   \n4  101 BAR & GRILL                                        353737         NaN   \n\n          ID Number  Unnamed: 4                     Loc Address  \\\n0  6033641060010001         NaN  15321 MAIN ST NE STE 201         \n1  6028006010010001         NaN  1404 34TH AVE                    \n2  6029630190010002         NaN  31217 124TH AVE SE STE 6         \n3  6042693900010001         NaN  14031 NE WOODINVILLE DUVALL RD   \n4  6028914650010001         NaN  322 LINCOLN ST                   \n\n                    Loc Room                  Loc City Loc St    Loc Zip  \\\n0                             DUVALL                       WA  980198574   \n1                             SEATTLE                      WA  981223334   \n2                             AUBURN                       WA  980923618   \n3                             WOODINVILLE                  WA  980728504   \n4                             HOQUIAM                      WA  985501409   \n\n          ...          Business Startup Date Issue Date Expire Date  \\\n0         ...                       20180327   20190207    20200131   \n1         ...                       20090608   20190212    20200229   \n2         ...                       20121015   20171104    20181031   \n3         ...                       20181115   20190306    20200331   \n4         ...                       20090317   20190129    20200131   \n\n                             Privilege Application Date  Reason Description  \\\n0  BEER/WINE REST - BEER/WINE                  20190207             RENEWAL   \n1  SPIRITS/BR/WN REST LOUNGE +                 20190212             RENEWAL   \n2  BEER/WINE REST - BEER/WINE                  20171104             RENEWAL   \n3  SNACK BAR                                   20190306             RENEWAL   \n4  SPIRITS/BR/WN REST LOUNGE -                 20190129             RENEWAL   \n\n         County           Status Night Phone             Licensee  \n0          KING  ACTIVE (ISSUED)  2062341746  NIKOS NORTHWEST LLC  \n1          KING  ACTIVE (ISSUED)  2063544900              W2K LLC  \n2          KING  ACTIVE (ISSUED)  2069542522      ORGANICWAY, LLC  \n3          KING  ACTIVE (ISSUED)  4258693670    NEW EASTHILL, LLC  \n4  GRAYS HARBOR  ACTIVE (ISSUED)  2535663698             PIG, INC  \n\n[5 rows x 25 columns]"
                    }, 
                    "execution_count": 9, 
                    "metadata": {}
                }
            ], 
            "execution_count": 9
        }, 
        {
            "source": "Get Oregon License information, load dataframe, write to csv, upload csv.", 
            "cell_type": "markdown", 
            "metadata": {}
        }, 
        {
            "source": "!wget -O OLCC_Licenses.xls http://www.olcc.state.or.us/pdfs/licenses_by_type_excel.xls\nORLicenses = pd.read_excel(\"OLCC_Licenses.xls\", skiprows=8)\nORLicenses.head()", 
            "cell_type": "code", 
            "metadata": {
                "scrolled": true
            }, 
            "outputs": [
                {
                    "output_type": "stream", 
                    "name": "stdout", 
                    "text": "--2019-06-07 17:07:04--  http://www.olcc.state.or.us/pdfs/licenses_by_type_excel.xls\nResolving www.olcc.state.or.us (www.olcc.state.or.us)... 159.121.27.4\nConnecting to www.olcc.state.or.us (www.olcc.state.or.us)|159.121.27.4|:80... connected.\nHTTP request sent, awaiting response... 200 OK\nLength: 7314944 (7.0M) [application/vnd.ms-excel]\nSaving to: \u2018OLCC_Licenses.xls\u2019\n\n100%[======================================>] 7,314,944   1.07MB/s   in 6.9s   \n\n2019-06-07 17:07:12 (1.02 MB/s) - \u2018OLCC_Licenses.xls\u2019 saved [7314944/7314944]\n\n"
                }, 
                {
                    "output_type": "execute_result", 
                    "data": {
                        "text/html": "<div>\n<style scoped>\n    .dataframe tbody tr th:only-of-type {\n        vertical-align: middle;\n    }\n\n    .dataframe tbody tr th {\n        vertical-align: top;\n    }\n\n    .dataframe thead th {\n        text-align: right;\n    }\n</style>\n<table border=\"1\" class=\"dataframe\">\n  <thead>\n    <tr style=\"text-align: right;\">\n      <th></th>\n      <th>License No.</th>\n      <th>Premises No.</th>\n      <th>Effective Date</th>\n      <th>Expiration</th>\n      <th>Tradename</th>\n      <th>Licensee Name</th>\n      <th>Type</th>\n      <th>License Action</th>\n      <th>Premises Street Address</th>\n      <th>Premises City</th>\n      <th>Prem County</th>\n      <th>Prem State</th>\n      <th>Prem Zip</th>\n      <th>Prem Phone</th>\n      <th>Mailing Address</th>\n      <th>Mailing City</th>\n      <th>Mail State</th>\n      <th>Mail Zip</th>\n      <th>Second Location to License No.</th>\n    </tr>\n  </thead>\n  <tbody>\n    <tr>\n      <th>0</th>\n      <td>288152</td>\n      <td>28426</td>\n      <td>2019-04-01</td>\n      <td>2020-03-31</td>\n      <td>#1 FOOD 4 MART</td>\n      <td>FUN 4 U INC</td>\n      <td>O</td>\n      <td>NaN</td>\n      <td>729 SW 185TH</td>\n      <td>ALOHA</td>\n      <td>WASHINGTON</td>\n      <td>OR</td>\n      <td>97006</td>\n      <td>503-502-9271</td>\n      <td>PO BOX 5026</td>\n      <td>BEAVERTON</td>\n      <td>OR</td>\n      <td>97006</td>\n      <td>NaN</td>\n    </tr>\n    <tr>\n      <th>1</th>\n      <td>291855</td>\n      <td>58406</td>\n      <td>2019-04-11</td>\n      <td>2020-03-31</td>\n      <td>00 WINES</td>\n      <td>00 OREGON LLC</td>\n      <td>WY</td>\n      <td>NaN</td>\n      <td>801 N SCOTT ST</td>\n      <td>CARLTON</td>\n      <td>YAMHILL</td>\n      <td>OR</td>\n      <td>97111</td>\n      <td>503-852-6100</td>\n      <td>937 NW GLISAN ST #1037</td>\n      <td>PORTLAND</td>\n      <td>OR</td>\n      <td>97209</td>\n      <td>NaN</td>\n    </tr>\n    <tr>\n      <th>2</th>\n      <td>283185</td>\n      <td>51973</td>\n      <td>2019-01-01</td>\n      <td>2019-12-31</td>\n      <td>1 800 WINESHOP.COM</td>\n      <td>1 800 WINESHOP.COM INC</td>\n      <td>DS</td>\n      <td>NaN</td>\n      <td>525 AIRPARK RD</td>\n      <td>NAPA</td>\n      <td>OUTSIDE OR</td>\n      <td>CA</td>\n      <td>94558</td>\n      <td>800-946-3746</td>\n      <td>NaN</td>\n      <td>NaN</td>\n      <td>OR</td>\n      <td>NaN</td>\n      <td>NaN</td>\n    </tr>\n    <tr>\n      <th>3</th>\n      <td>275587</td>\n      <td>4346</td>\n      <td>2018-07-01</td>\n      <td>2019-06-30</td>\n      <td>1 AM MARKET</td>\n      <td>1 AM MARKET INC</td>\n      <td>O</td>\n      <td>NaN</td>\n      <td>320 N MAIN ST</td>\n      <td>RIDDLE</td>\n      <td>DOUGLAS</td>\n      <td>OR</td>\n      <td>97469</td>\n      <td>541-874-2722</td>\n      <td>PO BOX 46</td>\n      <td>RIDDLE</td>\n      <td>OR</td>\n      <td>97469</td>\n      <td>NaN</td>\n    </tr>\n    <tr>\n      <th>4</th>\n      <td>275588</td>\n      <td>4379</td>\n      <td>2018-07-01</td>\n      <td>2019-06-30</td>\n      <td>1 AM MARKET</td>\n      <td>1 AM MARKET INC</td>\n      <td>O</td>\n      <td>NaN</td>\n      <td>1931 NE STEPHENS</td>\n      <td>ROSEBURG</td>\n      <td>DOUGLAS</td>\n      <td>OR</td>\n      <td>97470</td>\n      <td>541-673-0554</td>\n      <td>PO BOX 46</td>\n      <td>RIDDLE</td>\n      <td>OR</td>\n      <td>97469</td>\n      <td>NaN</td>\n    </tr>\n  </tbody>\n</table>\n</div>", 
                        "text/plain": "   License No.  Premises No. Effective Date Expiration           Tradename  \\\n0       288152         28426     2019-04-01 2020-03-31      #1 FOOD 4 MART   \n1       291855         58406     2019-04-11 2020-03-31            00 WINES   \n2       283185         51973     2019-01-01 2019-12-31  1 800 WINESHOP.COM   \n3       275587          4346     2018-07-01 2019-06-30         1 AM MARKET   \n4       275588          4379     2018-07-01 2019-06-30         1 AM MARKET   \n\n            Licensee Name Type License Action Premises Street Address  \\\n0             FUN 4 U INC    O            NaN            729 SW 185TH   \n1           00 OREGON LLC   WY            NaN          801 N SCOTT ST   \n2  1 800 WINESHOP.COM INC   DS            NaN          525 AIRPARK RD   \n3         1 AM MARKET INC    O            NaN           320 N MAIN ST   \n4         1 AM MARKET INC    O            NaN        1931 NE STEPHENS   \n\n  Premises City Prem County Prem State Prem Zip    Prem Phone  \\\n0         ALOHA  WASHINGTON         OR    97006  503-502-9271   \n1       CARLTON     YAMHILL         OR    97111  503-852-6100   \n2          NAPA  OUTSIDE OR         CA    94558  800-946-3746   \n3        RIDDLE     DOUGLAS         OR    97469  541-874-2722   \n4      ROSEBURG     DOUGLAS         OR    97470  541-673-0554   \n\n          Mailing Address Mailing City Mail State Mail Zip  \\\n0             PO BOX 5026    BEAVERTON         OR    97006   \n1  937 NW GLISAN ST #1037     PORTLAND         OR    97209   \n2                     NaN          NaN         OR      NaN   \n3               PO BOX 46       RIDDLE         OR    97469   \n4               PO BOX 46       RIDDLE         OR    97469   \n\n   Second Location to License No.  \n0                             NaN  \n1                             NaN  \n2                             NaN  \n3                             NaN  \n4                             NaN  "
                    }, 
                    "execution_count": 10, 
                    "metadata": {}
                }
            ], 
            "execution_count": 10
        }, 
        {
            "source": "ORLicenses.to_csv(path_or_buf='OLCC_Licenses.csv', index=False )\np = Path('./')\nlist(file.name for file in p.glob('*'))", 
            "cell_type": "code", 
            "metadata": {}, 
            "outputs": [
                {
                    "output_type": "execute_result", 
                    "data": {
                        "text/plain": "['OnPremise.csv',\n 'OLCC_Licenses.xls',\n 'df_PDX.csv',\n 'OLCC_Licenses.csv',\n 'df_SEA.csv']"
                    }, 
                    "execution_count": 13, 
                    "metadata": {}
                }
            ], 
            "execution_count": 13
        }, 
        {
            "source": "upload_file_cos (credentials_3,'OLCC_Licenses.csv','OLCC_Licenses.csv')", 
            "cell_type": "code", 
            "metadata": {}, 
            "outputs": [
                {
                    "output_type": "stream", 
                    "name": "stdout", 
                    "text": "File Uploaded\n"
                }
            ], 
            "execution_count": 12
        }, 
        {
            "source": "Remove columns and limit rows to King County", 
            "cell_type": "markdown", 
            "metadata": {}
        }, 
        {
            "source": "WAOnPrem.drop(['License Number', 'Unnamed: 2', 'ID Number', 'Unnamed: 4','Loc Room', 'Phone',\n       'Mail Address', 'Mail City', 'Mail State', 'Mail Zip', 'Issue Date', 'Expire Date','Application Date', 'Reason Description', 'Night Phone', 'Licensee'], axis=1, inplace=True)", 
            "cell_type": "code", 
            "metadata": {}, 
            "outputs": [], 
            "execution_count": 14
        }, 
        {
            "source": "WA_KING = WAOnPrem.loc[WAOnPrem['County'] == \"KING\"]\nWA_KING.head()", 
            "cell_type": "code", 
            "metadata": {}, 
            "outputs": [
                {
                    "output_type": "execute_result", 
                    "data": {
                        "text/html": "<div>\n<style scoped>\n    .dataframe tbody tr th:only-of-type {\n        vertical-align: middle;\n    }\n\n    .dataframe tbody tr th {\n        vertical-align: top;\n    }\n\n    .dataframe thead th {\n        text-align: right;\n    }\n</style>\n<table border=\"1\" class=\"dataframe\">\n  <thead>\n    <tr style=\"text-align: right;\">\n      <th></th>\n      <th>Tradename</th>\n      <th>Loc Address</th>\n      <th>Loc City</th>\n      <th>Loc St</th>\n      <th>Loc Zip</th>\n      <th>Business Startup Date</th>\n      <th>Privilege</th>\n      <th>County</th>\n      <th>Status</th>\n    </tr>\n  </thead>\n  <tbody>\n    <tr>\n      <th>0</th>\n      <td>'AMONOS! MEXICAN KITCHEN</td>\n      <td>15321 MAIN ST NE STE 201</td>\n      <td>DUVALL</td>\n      <td>WA</td>\n      <td>980198574</td>\n      <td>20180327</td>\n      <td>BEER/WINE REST - BEER/WINE</td>\n      <td>KING</td>\n      <td>ACTIVE (ISSUED)</td>\n    </tr>\n    <tr>\n      <th>1</th>\n      <td>/NA:M/ THAI CUISINE</td>\n      <td>1404 34TH AVE</td>\n      <td>SEATTLE</td>\n      <td>WA</td>\n      <td>981223334</td>\n      <td>20090608</td>\n      <td>SPIRITS/BR/WN REST LOUNGE +</td>\n      <td>KING</td>\n      <td>ACTIVE (ISSUED)</td>\n    </tr>\n    <tr>\n      <th>2</th>\n      <td>00 PIZZA</td>\n      <td>31217 124TH AVE SE STE 6</td>\n      <td>AUBURN</td>\n      <td>WA</td>\n      <td>980923618</td>\n      <td>20121015</td>\n      <td>BEER/WINE REST - BEER/WINE</td>\n      <td>KING</td>\n      <td>ACTIVE (ISSUED)</td>\n    </tr>\n    <tr>\n      <th>3</th>\n      <td>028 BARBER SHOP</td>\n      <td>14031 NE WOODINVILLE DUVALL RD</td>\n      <td>WOODINVILLE</td>\n      <td>WA</td>\n      <td>980728504</td>\n      <td>20181115</td>\n      <td>SNACK BAR</td>\n      <td>KING</td>\n      <td>ACTIVE (ISSUED)</td>\n    </tr>\n    <tr>\n      <th>7</th>\n      <td>108 VIETNAMESE CAJUN CRAWFISH BROILER</td>\n      <td>18114 E VALLEY HWY</td>\n      <td>KENT</td>\n      <td>WA</td>\n      <td>980321001</td>\n      <td>20141105</td>\n      <td>BEER/WINE REST - BEER</td>\n      <td>KING</td>\n      <td>ACTIVE (ISSUED)</td>\n    </tr>\n  </tbody>\n</table>\n</div>", 
                        "text/plain": "                                       Tradename  \\\n0  'AMONOS! MEXICAN KITCHEN                        \n1  /NA:M/ THAI CUISINE                             \n2  00 PIZZA                                        \n3  028 BARBER SHOP                                 \n7  108 VIETNAMESE CAJUN CRAWFISH BROILER           \n\n                      Loc Address                  Loc City Loc St    Loc Zip  \\\n0  15321 MAIN ST NE STE 201        DUVALL                       WA  980198574   \n1  1404 34TH AVE                   SEATTLE                      WA  981223334   \n2  31217 124TH AVE SE STE 6        AUBURN                       WA  980923618   \n3  14031 NE WOODINVILLE DUVALL RD  WOODINVILLE                  WA  980728504   \n7  18114 E VALLEY HWY              KENT                         WA  980321001   \n\n   Business Startup Date                            Privilege County  \\\n0               20180327  BEER/WINE REST - BEER/WINE            KING   \n1               20090608  SPIRITS/BR/WN REST LOUNGE +           KING   \n2               20121015  BEER/WINE REST - BEER/WINE            KING   \n3               20181115  SNACK BAR                             KING   \n7               20141105  BEER/WINE REST - BEER                 KING   \n\n            Status  \n0  ACTIVE (ISSUED)  \n1  ACTIVE (ISSUED)  \n2  ACTIVE (ISSUED)  \n3  ACTIVE (ISSUED)  \n7  ACTIVE (ISSUED)  "
                    }, 
                    "execution_count": 15, 
                    "metadata": {}
                }
            ], 
            "execution_count": 15
        }, 
        {
            "source": "Create arcgis search string and re-index", 
            "cell_type": "markdown", 
            "metadata": {}
        }, 
        {
            "source": "WA_KING['Premises'] = WA_KING['Loc Address'].astype(str) + ' , ' +  WA_KING['Loc City'] + ' , ' + WA_KING['Loc St']\nWA_KING.head()", 
            "cell_type": "code", 
            "metadata": {}, 
            "outputs": [
                {
                    "output_type": "stream", 
                    "name": "stderr", 
                    "text": "/opt/conda/envs/DSX-Python35/lib/python3.5/site-packages/ipykernel/__main__.py:1: SettingWithCopyWarning: \nA value is trying to be set on a copy of a slice from a DataFrame.\nTry using .loc[row_indexer,col_indexer] = value instead\n\nSee the caveats in the documentation: http://pandas.pydata.org/pandas-docs/stable/indexing.html#indexing-view-versus-copy\n  if __name__ == '__main__':\n"
                }, 
                {
                    "output_type": "execute_result", 
                    "data": {
                        "text/html": "<div>\n<style scoped>\n    .dataframe tbody tr th:only-of-type {\n        vertical-align: middle;\n    }\n\n    .dataframe tbody tr th {\n        vertical-align: top;\n    }\n\n    .dataframe thead th {\n        text-align: right;\n    }\n</style>\n<table border=\"1\" class=\"dataframe\">\n  <thead>\n    <tr style=\"text-align: right;\">\n      <th></th>\n      <th>Tradename</th>\n      <th>Loc Address</th>\n      <th>Loc City</th>\n      <th>Loc St</th>\n      <th>Loc Zip</th>\n      <th>Business Startup Date</th>\n      <th>Privilege</th>\n      <th>County</th>\n      <th>Status</th>\n      <th>Premises</th>\n    </tr>\n  </thead>\n  <tbody>\n    <tr>\n      <th>0</th>\n      <td>'AMONOS! MEXICAN KITCHEN</td>\n      <td>15321 MAIN ST NE STE 201</td>\n      <td>DUVALL</td>\n      <td>WA</td>\n      <td>980198574</td>\n      <td>20180327</td>\n      <td>BEER/WINE REST - BEER/WINE</td>\n      <td>KING</td>\n      <td>ACTIVE (ISSUED)</td>\n      <td>15321 MAIN ST NE STE 201       , DUVALL       ...</td>\n    </tr>\n    <tr>\n      <th>1</th>\n      <td>/NA:M/ THAI CUISINE</td>\n      <td>1404 34TH AVE</td>\n      <td>SEATTLE</td>\n      <td>WA</td>\n      <td>981223334</td>\n      <td>20090608</td>\n      <td>SPIRITS/BR/WN REST LOUNGE +</td>\n      <td>KING</td>\n      <td>ACTIVE (ISSUED)</td>\n      <td>1404 34TH AVE                  , SEATTLE      ...</td>\n    </tr>\n    <tr>\n      <th>2</th>\n      <td>00 PIZZA</td>\n      <td>31217 124TH AVE SE STE 6</td>\n      <td>AUBURN</td>\n      <td>WA</td>\n      <td>980923618</td>\n      <td>20121015</td>\n      <td>BEER/WINE REST - BEER/WINE</td>\n      <td>KING</td>\n      <td>ACTIVE (ISSUED)</td>\n      <td>31217 124TH AVE SE STE 6       , AUBURN       ...</td>\n    </tr>\n    <tr>\n      <th>3</th>\n      <td>028 BARBER SHOP</td>\n      <td>14031 NE WOODINVILLE DUVALL RD</td>\n      <td>WOODINVILLE</td>\n      <td>WA</td>\n      <td>980728504</td>\n      <td>20181115</td>\n      <td>SNACK BAR</td>\n      <td>KING</td>\n      <td>ACTIVE (ISSUED)</td>\n      <td>14031 NE WOODINVILLE DUVALL RD , WOODINVILLE  ...</td>\n    </tr>\n    <tr>\n      <th>7</th>\n      <td>108 VIETNAMESE CAJUN CRAWFISH BROILER</td>\n      <td>18114 E VALLEY HWY</td>\n      <td>KENT</td>\n      <td>WA</td>\n      <td>980321001</td>\n      <td>20141105</td>\n      <td>BEER/WINE REST - BEER</td>\n      <td>KING</td>\n      <td>ACTIVE (ISSUED)</td>\n      <td>18114 E VALLEY HWY             , KENT         ...</td>\n    </tr>\n  </tbody>\n</table>\n</div>", 
                        "text/plain": "                                       Tradename  \\\n0  'AMONOS! MEXICAN KITCHEN                        \n1  /NA:M/ THAI CUISINE                             \n2  00 PIZZA                                        \n3  028 BARBER SHOP                                 \n7  108 VIETNAMESE CAJUN CRAWFISH BROILER           \n\n                      Loc Address                  Loc City Loc St    Loc Zip  \\\n0  15321 MAIN ST NE STE 201        DUVALL                       WA  980198574   \n1  1404 34TH AVE                   SEATTLE                      WA  981223334   \n2  31217 124TH AVE SE STE 6        AUBURN                       WA  980923618   \n3  14031 NE WOODINVILLE DUVALL RD  WOODINVILLE                  WA  980728504   \n7  18114 E VALLEY HWY              KENT                         WA  980321001   \n\n   Business Startup Date                            Privilege County  \\\n0               20180327  BEER/WINE REST - BEER/WINE            KING   \n1               20090608  SPIRITS/BR/WN REST LOUNGE +           KING   \n2               20121015  BEER/WINE REST - BEER/WINE            KING   \n3               20181115  SNACK BAR                             KING   \n7               20141105  BEER/WINE REST - BEER                 KING   \n\n            Status                                           Premises  \n0  ACTIVE (ISSUED)  15321 MAIN ST NE STE 201       , DUVALL       ...  \n1  ACTIVE (ISSUED)  1404 34TH AVE                  , SEATTLE      ...  \n2  ACTIVE (ISSUED)  31217 124TH AVE SE STE 6       , AUBURN       ...  \n3  ACTIVE (ISSUED)  14031 NE WOODINVILLE DUVALL RD , WOODINVILLE  ...  \n7  ACTIVE (ISSUED)  18114 E VALLEY HWY             , KENT         ...  "
                    }, 
                    "execution_count": 16, 
                    "metadata": {}
                }
            ], 
            "execution_count": 16
        }, 
        {
            "source": "WA_KING.reset_index(drop=True, inplace=True)\nWA_KING.head()", 
            "cell_type": "code", 
            "metadata": {}, 
            "outputs": [
                {
                    "output_type": "execute_result", 
                    "data": {
                        "text/html": "<div>\n<style scoped>\n    .dataframe tbody tr th:only-of-type {\n        vertical-align: middle;\n    }\n\n    .dataframe tbody tr th {\n        vertical-align: top;\n    }\n\n    .dataframe thead th {\n        text-align: right;\n    }\n</style>\n<table border=\"1\" class=\"dataframe\">\n  <thead>\n    <tr style=\"text-align: right;\">\n      <th></th>\n      <th>Tradename</th>\n      <th>Loc Address</th>\n      <th>Loc City</th>\n      <th>Loc St</th>\n      <th>Loc Zip</th>\n      <th>Business Startup Date</th>\n      <th>Privilege</th>\n      <th>County</th>\n      <th>Status</th>\n      <th>Premises</th>\n    </tr>\n  </thead>\n  <tbody>\n    <tr>\n      <th>0</th>\n      <td>'AMONOS! MEXICAN KITCHEN</td>\n      <td>15321 MAIN ST NE STE 201</td>\n      <td>DUVALL</td>\n      <td>WA</td>\n      <td>980198574</td>\n      <td>20180327</td>\n      <td>BEER/WINE REST - BEER/WINE</td>\n      <td>KING</td>\n      <td>ACTIVE (ISSUED)</td>\n      <td>15321 MAIN ST NE STE 201       , DUVALL       ...</td>\n    </tr>\n    <tr>\n      <th>1</th>\n      <td>/NA:M/ THAI CUISINE</td>\n      <td>1404 34TH AVE</td>\n      <td>SEATTLE</td>\n      <td>WA</td>\n      <td>981223334</td>\n      <td>20090608</td>\n      <td>SPIRITS/BR/WN REST LOUNGE +</td>\n      <td>KING</td>\n      <td>ACTIVE (ISSUED)</td>\n      <td>1404 34TH AVE                  , SEATTLE      ...</td>\n    </tr>\n    <tr>\n      <th>2</th>\n      <td>00 PIZZA</td>\n      <td>31217 124TH AVE SE STE 6</td>\n      <td>AUBURN</td>\n      <td>WA</td>\n      <td>980923618</td>\n      <td>20121015</td>\n      <td>BEER/WINE REST - BEER/WINE</td>\n      <td>KING</td>\n      <td>ACTIVE (ISSUED)</td>\n      <td>31217 124TH AVE SE STE 6       , AUBURN       ...</td>\n    </tr>\n    <tr>\n      <th>3</th>\n      <td>028 BARBER SHOP</td>\n      <td>14031 NE WOODINVILLE DUVALL RD</td>\n      <td>WOODINVILLE</td>\n      <td>WA</td>\n      <td>980728504</td>\n      <td>20181115</td>\n      <td>SNACK BAR</td>\n      <td>KING</td>\n      <td>ACTIVE (ISSUED)</td>\n      <td>14031 NE WOODINVILLE DUVALL RD , WOODINVILLE  ...</td>\n    </tr>\n    <tr>\n      <th>4</th>\n      <td>108 VIETNAMESE CAJUN CRAWFISH BROILER</td>\n      <td>18114 E VALLEY HWY</td>\n      <td>KENT</td>\n      <td>WA</td>\n      <td>980321001</td>\n      <td>20141105</td>\n      <td>BEER/WINE REST - BEER</td>\n      <td>KING</td>\n      <td>ACTIVE (ISSUED)</td>\n      <td>18114 E VALLEY HWY             , KENT         ...</td>\n    </tr>\n  </tbody>\n</table>\n</div>", 
                        "text/plain": "                                       Tradename  \\\n0  'AMONOS! MEXICAN KITCHEN                        \n1  /NA:M/ THAI CUISINE                             \n2  00 PIZZA                                        \n3  028 BARBER SHOP                                 \n4  108 VIETNAMESE CAJUN CRAWFISH BROILER           \n\n                      Loc Address                  Loc City Loc St    Loc Zip  \\\n0  15321 MAIN ST NE STE 201        DUVALL                       WA  980198574   \n1  1404 34TH AVE                   SEATTLE                      WA  981223334   \n2  31217 124TH AVE SE STE 6        AUBURN                       WA  980923618   \n3  14031 NE WOODINVILLE DUVALL RD  WOODINVILLE                  WA  980728504   \n4  18114 E VALLEY HWY              KENT                         WA  980321001   \n\n   Business Startup Date                            Privilege County  \\\n0               20180327  BEER/WINE REST - BEER/WINE            KING   \n1               20090608  SPIRITS/BR/WN REST LOUNGE +           KING   \n2               20121015  BEER/WINE REST - BEER/WINE            KING   \n3               20181115  SNACK BAR                             KING   \n4               20141105  BEER/WINE REST - BEER                 KING   \n\n            Status                                           Premises  \n0  ACTIVE (ISSUED)  15321 MAIN ST NE STE 201       , DUVALL       ...  \n1  ACTIVE (ISSUED)  1404 34TH AVE                  , SEATTLE      ...  \n2  ACTIVE (ISSUED)  31217 124TH AVE SE STE 6       , AUBURN       ...  \n3  ACTIVE (ISSUED)  14031 NE WOODINVILLE DUVALL RD , WOODINVILLE  ...  \n4  ACTIVE (ISSUED)  18114 E VALLEY HWY             , KENT         ...  "
                    }, 
                    "execution_count": 17, 
                    "metadata": {}
                }
            ], 
            "execution_count": 17
        }, 
        {
            "source": " Write to csv, upload csv.", 
            "cell_type": "markdown", 
            "metadata": {}
        }, 
        {
            "source": "WA_KING.to_csv(path_or_buf='WA_KING.csv', index=True )\np = Path('./')\nlist(file.name for file in p.glob('*'))", 
            "cell_type": "code", 
            "metadata": {}, 
            "outputs": [
                {
                    "output_type": "execute_result", 
                    "data": {
                        "text/plain": "['OnPremise.csv',\n 'OLCC_Licenses.xls',\n 'WA_KING.csv',\n 'df_PDX.csv',\n 'OLCC_Licenses.csv',\n 'df_SEA.csv']"
                    }, 
                    "execution_count": 18, 
                    "metadata": {}
                }
            ], 
            "execution_count": 18
        }, 
        {
            "source": "upload_file_cos (credentials_3,'WA_KING.csv','WA_KING.csv')", 
            "cell_type": "code", 
            "metadata": {}, 
            "outputs": [
                {
                    "output_type": "stream", 
                    "name": "stdout", 
                    "text": "File Uploaded\n"
                }
            ], 
            "execution_count": 19
        }, 
        {
            "source": "Remove columns and limit rows to MULTNOMAH County", 
            "cell_type": "markdown", 
            "metadata": {}
        }, 
        {
            "source": "OR_MULTNOMAH = ORLicenses.loc[ORLicenses['Prem County'] == \"MULTNOMAH\"]\nOR_MULTNOMAH.head()", 
            "cell_type": "code", 
            "metadata": {}, 
            "outputs": [
                {
                    "output_type": "execute_result", 
                    "data": {
                        "text/html": "<div>\n<style scoped>\n    .dataframe tbody tr th:only-of-type {\n        vertical-align: middle;\n    }\n\n    .dataframe tbody tr th {\n        vertical-align: top;\n    }\n\n    .dataframe thead th {\n        text-align: right;\n    }\n</style>\n<table border=\"1\" class=\"dataframe\">\n  <thead>\n    <tr style=\"text-align: right;\">\n      <th></th>\n      <th>License No.</th>\n      <th>Premises No.</th>\n      <th>Effective Date</th>\n      <th>Expiration</th>\n      <th>Tradename</th>\n      <th>Licensee Name</th>\n      <th>Type</th>\n      <th>License Action</th>\n      <th>Premises Street Address</th>\n      <th>Premises City</th>\n      <th>Prem County</th>\n      <th>Prem State</th>\n      <th>Prem Zip</th>\n      <th>Prem Phone</th>\n      <th>Mailing Address</th>\n      <th>Mailing City</th>\n      <th>Mail State</th>\n      <th>Mail Zip</th>\n      <th>Second Location to License No.</th>\n    </tr>\n  </thead>\n  <tbody>\n    <tr>\n      <th>14</th>\n      <td>284633</td>\n      <td>53856</td>\n      <td>2019-01-01</td>\n      <td>2019-12-31</td>\n      <td>10 BARREL BREWING COMPANY</td>\n      <td>10 BARREL BREWING LLC</td>\n      <td>BRW</td>\n      <td>NaN</td>\n      <td>1411 NW FLANDERS</td>\n      <td>PORTLAND</td>\n      <td>MULTNOMAH</td>\n      <td>OR</td>\n      <td>97209</td>\n      <td>503-224-1700</td>\n      <td>ONE BUSCH PLACE / 202-1</td>\n      <td>ST LOUIS</td>\n      <td>MO</td>\n      <td>63118</td>\n      <td>NaN</td>\n    </tr>\n    <tr>\n      <th>15</th>\n      <td>284634</td>\n      <td>53856</td>\n      <td>2019-01-01</td>\n      <td>2019-12-31</td>\n      <td>10 BARREL BREWING COMPANY</td>\n      <td>10 BARREL BREWING LLC</td>\n      <td>F-COM</td>\n      <td>NaN</td>\n      <td>1411 NW FLANDERS</td>\n      <td>PORTLAND</td>\n      <td>MULTNOMAH</td>\n      <td>OR</td>\n      <td>97209</td>\n      <td>503-224-1700</td>\n      <td>ONE BUSCH PLACE / 202-1</td>\n      <td>ST LOUIS</td>\n      <td>MO</td>\n      <td>63118</td>\n      <td>NaN</td>\n    </tr>\n    <tr>\n      <th>17</th>\n      <td>292665</td>\n      <td>60102</td>\n      <td>2019-05-20</td>\n      <td>2019-09-30</td>\n      <td>10 BARREL BREWING COMPANY</td>\n      <td>10 BARREL BREWING LLC</td>\n      <td>DISTT</td>\n      <td>NaN</td>\n      <td>1411 NW FLANDERS</td>\n      <td>PORTLAND</td>\n      <td>MULTNOMAH</td>\n      <td>OR</td>\n      <td>97209</td>\n      <td>NaN</td>\n      <td>ONE BUSCH PLACE / 202-1</td>\n      <td>ST LOUIS</td>\n      <td>MO</td>\n      <td>63118</td>\n      <td>278820.0</td>\n    </tr>\n    <tr>\n      <th>20</th>\n      <td>284920</td>\n      <td>324</td>\n      <td>2019-01-01</td>\n      <td>2019-12-31</td>\n      <td>102ND STREET MARKET #1</td>\n      <td>SOFIA FOOD MART INC</td>\n      <td>O</td>\n      <td>NaN</td>\n      <td>4646 NE 102ND AVE</td>\n      <td>PORTLAND</td>\n      <td>MULTNOMAH</td>\n      <td>OR</td>\n      <td>97220</td>\n      <td>503-257-9563</td>\n      <td>16641 SE 82ND DR #101</td>\n      <td>CLACKAMAS</td>\n      <td>OR</td>\n      <td>97015</td>\n      <td>NaN</td>\n    </tr>\n    <tr>\n      <th>21</th>\n      <td>285200</td>\n      <td>254</td>\n      <td>2019-01-01</td>\n      <td>2019-12-31</td>\n      <td>108 BAR &amp; GRILL</td>\n      <td>BLEU POINTE CORPORATION</td>\n      <td>F-COM</td>\n      <td>NaN</td>\n      <td>10845 NE HALSEY ST</td>\n      <td>PORTLAND</td>\n      <td>MULTNOMAH</td>\n      <td>OR</td>\n      <td>97213</td>\n      <td>503-255-8833</td>\n      <td>10908 SE KNAPP ST</td>\n      <td>PORTLAND</td>\n      <td>OR</td>\n      <td>97266</td>\n      <td>NaN</td>\n    </tr>\n  </tbody>\n</table>\n</div>", 
                        "text/plain": "    License No.  Premises No. Effective Date Expiration  \\\n14       284633         53856     2019-01-01 2019-12-31   \n15       284634         53856     2019-01-01 2019-12-31   \n17       292665         60102     2019-05-20 2019-09-30   \n20       284920           324     2019-01-01 2019-12-31   \n21       285200           254     2019-01-01 2019-12-31   \n\n                    Tradename            Licensee Name   Type License Action  \\\n14  10 BARREL BREWING COMPANY    10 BARREL BREWING LLC    BRW            NaN   \n15  10 BARREL BREWING COMPANY    10 BARREL BREWING LLC  F-COM            NaN   \n17  10 BARREL BREWING COMPANY    10 BARREL BREWING LLC  DISTT            NaN   \n20     102ND STREET MARKET #1      SOFIA FOOD MART INC      O            NaN   \n21            108 BAR & GRILL  BLEU POINTE CORPORATION  F-COM            NaN   \n\n   Premises Street Address Premises City Prem County Prem State Prem Zip  \\\n14        1411 NW FLANDERS      PORTLAND   MULTNOMAH         OR    97209   \n15        1411 NW FLANDERS      PORTLAND   MULTNOMAH         OR    97209   \n17        1411 NW FLANDERS      PORTLAND   MULTNOMAH         OR    97209   \n20       4646 NE 102ND AVE      PORTLAND   MULTNOMAH         OR    97220   \n21      10845 NE HALSEY ST      PORTLAND   MULTNOMAH         OR    97213   \n\n      Prem Phone          Mailing Address Mailing City Mail State Mail Zip  \\\n14  503-224-1700  ONE BUSCH PLACE / 202-1     ST LOUIS         MO    63118   \n15  503-224-1700  ONE BUSCH PLACE / 202-1     ST LOUIS         MO    63118   \n17           NaN  ONE BUSCH PLACE / 202-1     ST LOUIS         MO    63118   \n20  503-257-9563    16641 SE 82ND DR #101    CLACKAMAS         OR    97015   \n21  503-255-8833        10908 SE KNAPP ST     PORTLAND         OR    97266   \n\n    Second Location to License No.  \n14                             NaN  \n15                             NaN  \n17                        278820.0  \n20                             NaN  \n21                             NaN  "
                    }, 
                    "execution_count": 22, 
                    "metadata": {}
                }
            ], 
            "execution_count": 22
        }, 
        {
            "source": "Extracted from https://www.oregon.gov/olcc/LIC/docs/license_types.pdf\n\"BRW\", \"BRWNC\", \"BP\", \"DIST\",\"DISTT\",\"F-COM\",\"F_FPC\", \"F_CLU\", \"F_PL\",\"F-PC\", \"GSP\",\"GSPNC\",\"L\", \"WY\",\"WYNC\"\n\"Brewery\", \"Brewery\", \"Brewery-Public House\", \"Distillery\",\"Distillery Tasting\",\"Full On-Premises Sales, Commercial\",\"Full On-Premises Sales, For-Profit Private Club\", \"Full On-Premises Sales, Nonprofit Private Club\", \"Full On-Premises Sales, Other Public Location\",\"Full On-Premises Sales, Public Passenger Carrier\", \"Grower Sales Privilege\",\"Grower Sales Privilege\",\"Limited On-Premises Sales\",\"Winery\",\"Winery\",", 
            "cell_type": "markdown", 
            "metadata": {}
        }, 
        {
            "source": "# intialise data of lists. \ndata = {'LicenseCode':[\"BRW\", \"BRWNC\", \"BP\", \"DIST\",\"DISTT\",\"F-COM\",\"F_FPC\", \"F_CLU\", \"F_PL\",\"F-PC\", \"GSP\",\"GSPNC\",\"L\", \"WY\",\"WYNC\"],\n        'LicenseType':[\"Brewery\", \"Brewery\", \"Brewery-Public House\", \"Distillery\",\"Distillery Tasting\",\"Full On-Premises Sales, Commercial\",\n                       \"Full On-Premises Sales, For-Profit Private Club\", \"Full On-Premises Sales, Nonprofit Private Club\", \n                       \"Full On-Premises Sales, Other Public Location\",\"Full On-Premises Sales, Public Passenger Carrier\", \n                       \"Grower Sales Privilege\",\"Grower Sales Privilege\",\"Limited On-Premises Sales\",\"Winery\",\"Winery\"]} \n  \n# Create DataFrame \nOR_Type = pd.DataFrame(data) \n  \n# Print the output. \nOR_Type", 
            "cell_type": "code", 
            "metadata": {}, 
            "outputs": [
                {
                    "output_type": "execute_result", 
                    "data": {
                        "text/html": "<div>\n<style scoped>\n    .dataframe tbody tr th:only-of-type {\n        vertical-align: middle;\n    }\n\n    .dataframe tbody tr th {\n        vertical-align: top;\n    }\n\n    .dataframe thead th {\n        text-align: right;\n    }\n</style>\n<table border=\"1\" class=\"dataframe\">\n  <thead>\n    <tr style=\"text-align: right;\">\n      <th></th>\n      <th>LicenseCode</th>\n      <th>LicenseType</th>\n    </tr>\n  </thead>\n  <tbody>\n    <tr>\n      <th>0</th>\n      <td>BRW</td>\n      <td>Brewery</td>\n    </tr>\n    <tr>\n      <th>1</th>\n      <td>BRWNC</td>\n      <td>Brewery</td>\n    </tr>\n    <tr>\n      <th>2</th>\n      <td>BP</td>\n      <td>Brewery-Public House</td>\n    </tr>\n    <tr>\n      <th>3</th>\n      <td>DIST</td>\n      <td>Distillery</td>\n    </tr>\n    <tr>\n      <th>4</th>\n      <td>DISTT</td>\n      <td>Distillery Tasting</td>\n    </tr>\n    <tr>\n      <th>5</th>\n      <td>F-COM</td>\n      <td>Full On-Premises Sales, Commercial</td>\n    </tr>\n    <tr>\n      <th>6</th>\n      <td>F_FPC</td>\n      <td>Full On-Premises Sales, For-Profit Private Club</td>\n    </tr>\n    <tr>\n      <th>7</th>\n      <td>F_CLU</td>\n      <td>Full On-Premises Sales, Nonprofit Private Club</td>\n    </tr>\n    <tr>\n      <th>8</th>\n      <td>F_PL</td>\n      <td>Full On-Premises Sales, Other Public Location</td>\n    </tr>\n    <tr>\n      <th>9</th>\n      <td>F-PC</td>\n      <td>Full On-Premises Sales, Public Passenger Carrier</td>\n    </tr>\n    <tr>\n      <th>10</th>\n      <td>GSP</td>\n      <td>Grower Sales Privilege</td>\n    </tr>\n    <tr>\n      <th>11</th>\n      <td>GSPNC</td>\n      <td>Grower Sales Privilege</td>\n    </tr>\n    <tr>\n      <th>12</th>\n      <td>L</td>\n      <td>Limited On-Premises Sales</td>\n    </tr>\n    <tr>\n      <th>13</th>\n      <td>WY</td>\n      <td>Winery</td>\n    </tr>\n    <tr>\n      <th>14</th>\n      <td>WYNC</td>\n      <td>Winery</td>\n    </tr>\n  </tbody>\n</table>\n</div>", 
                        "text/plain": "   LicenseCode                                       LicenseType\n0          BRW                                           Brewery\n1        BRWNC                                           Brewery\n2           BP                              Brewery-Public House\n3         DIST                                        Distillery\n4        DISTT                                Distillery Tasting\n5        F-COM                Full On-Premises Sales, Commercial\n6        F_FPC   Full On-Premises Sales, For-Profit Private Club\n7        F_CLU    Full On-Premises Sales, Nonprofit Private Club\n8         F_PL     Full On-Premises Sales, Other Public Location\n9         F-PC  Full On-Premises Sales, Public Passenger Carrier\n10         GSP                            Grower Sales Privilege\n11       GSPNC                            Grower Sales Privilege\n12           L                         Limited On-Premises Sales\n13          WY                                            Winery\n14        WYNC                                            Winery"
                    }, 
                    "execution_count": 20, 
                    "metadata": {}
                }
            ], 
            "execution_count": 20
        }, 
        {
            "source": "dfToList = OR_Type['LicenseCode'].tolist()\nOR_MULTNOMAH_Type = OR_MULTNOMAH.loc[OR_MULTNOMAH['Type'].isin (dfToList)]\nOR_MULTNOMAH_Type.head()", 
            "cell_type": "code", 
            "metadata": {}, 
            "outputs": [
                {
                    "output_type": "execute_result", 
                    "data": {
                        "text/html": "<div>\n<style scoped>\n    .dataframe tbody tr th:only-of-type {\n        vertical-align: middle;\n    }\n\n    .dataframe tbody tr th {\n        vertical-align: top;\n    }\n\n    .dataframe thead th {\n        text-align: right;\n    }\n</style>\n<table border=\"1\" class=\"dataframe\">\n  <thead>\n    <tr style=\"text-align: right;\">\n      <th></th>\n      <th>License No.</th>\n      <th>Premises No.</th>\n      <th>Effective Date</th>\n      <th>Expiration</th>\n      <th>Tradename</th>\n      <th>Licensee Name</th>\n      <th>Type</th>\n      <th>License Action</th>\n      <th>Premises Street Address</th>\n      <th>Premises City</th>\n      <th>Prem County</th>\n      <th>Prem State</th>\n      <th>Prem Zip</th>\n      <th>Prem Phone</th>\n      <th>Mailing Address</th>\n      <th>Mailing City</th>\n      <th>Mail State</th>\n      <th>Mail Zip</th>\n      <th>Second Location to License No.</th>\n    </tr>\n  </thead>\n  <tbody>\n    <tr>\n      <th>14</th>\n      <td>284633</td>\n      <td>53856</td>\n      <td>2019-01-01</td>\n      <td>2019-12-31</td>\n      <td>10 BARREL BREWING COMPANY</td>\n      <td>10 BARREL BREWING LLC</td>\n      <td>BRW</td>\n      <td>NaN</td>\n      <td>1411 NW FLANDERS</td>\n      <td>PORTLAND</td>\n      <td>MULTNOMAH</td>\n      <td>OR</td>\n      <td>97209</td>\n      <td>503-224-1700</td>\n      <td>ONE BUSCH PLACE / 202-1</td>\n      <td>ST LOUIS</td>\n      <td>MO</td>\n      <td>63118</td>\n      <td>NaN</td>\n    </tr>\n    <tr>\n      <th>15</th>\n      <td>284634</td>\n      <td>53856</td>\n      <td>2019-01-01</td>\n      <td>2019-12-31</td>\n      <td>10 BARREL BREWING COMPANY</td>\n      <td>10 BARREL BREWING LLC</td>\n      <td>F-COM</td>\n      <td>NaN</td>\n      <td>1411 NW FLANDERS</td>\n      <td>PORTLAND</td>\n      <td>MULTNOMAH</td>\n      <td>OR</td>\n      <td>97209</td>\n      <td>503-224-1700</td>\n      <td>ONE BUSCH PLACE / 202-1</td>\n      <td>ST LOUIS</td>\n      <td>MO</td>\n      <td>63118</td>\n      <td>NaN</td>\n    </tr>\n    <tr>\n      <th>17</th>\n      <td>292665</td>\n      <td>60102</td>\n      <td>2019-05-20</td>\n      <td>2019-09-30</td>\n      <td>10 BARREL BREWING COMPANY</td>\n      <td>10 BARREL BREWING LLC</td>\n      <td>DISTT</td>\n      <td>NaN</td>\n      <td>1411 NW FLANDERS</td>\n      <td>PORTLAND</td>\n      <td>MULTNOMAH</td>\n      <td>OR</td>\n      <td>97209</td>\n      <td>NaN</td>\n      <td>ONE BUSCH PLACE / 202-1</td>\n      <td>ST LOUIS</td>\n      <td>MO</td>\n      <td>63118</td>\n      <td>278820.0</td>\n    </tr>\n    <tr>\n      <th>21</th>\n      <td>285200</td>\n      <td>254</td>\n      <td>2019-01-01</td>\n      <td>2019-12-31</td>\n      <td>108 BAR &amp; GRILL</td>\n      <td>BLEU POINTE CORPORATION</td>\n      <td>F-COM</td>\n      <td>NaN</td>\n      <td>10845 NE HALSEY ST</td>\n      <td>PORTLAND</td>\n      <td>MULTNOMAH</td>\n      <td>OR</td>\n      <td>97213</td>\n      <td>503-255-8833</td>\n      <td>10908 SE KNAPP ST</td>\n      <td>PORTLAND</td>\n      <td>OR</td>\n      <td>97266</td>\n      <td>NaN</td>\n    </tr>\n    <tr>\n      <th>34</th>\n      <td>277401</td>\n      <td>17892</td>\n      <td>2018-07-01</td>\n      <td>2019-06-30</td>\n      <td>13 VIRTUES BREWING CO</td>\n      <td>PHILADELPHIA'S STEAKS &amp; HOAGIES INC</td>\n      <td>BP</td>\n      <td>NaN</td>\n      <td>6410 SE MILWAUKIE AVE</td>\n      <td>PORTLAND</td>\n      <td>MULTNOMAH</td>\n      <td>OR</td>\n      <td>97202</td>\n      <td>503-239-8544</td>\n      <td>NaN</td>\n      <td>NaN</td>\n      <td>OR</td>\n      <td>NaN</td>\n      <td>NaN</td>\n    </tr>\n  </tbody>\n</table>\n</div>", 
                        "text/plain": "    License No.  Premises No. Effective Date Expiration  \\\n14       284633         53856     2019-01-01 2019-12-31   \n15       284634         53856     2019-01-01 2019-12-31   \n17       292665         60102     2019-05-20 2019-09-30   \n21       285200           254     2019-01-01 2019-12-31   \n34       277401         17892     2018-07-01 2019-06-30   \n\n                    Tradename                        Licensee Name   Type  \\\n14  10 BARREL BREWING COMPANY                10 BARREL BREWING LLC    BRW   \n15  10 BARREL BREWING COMPANY                10 BARREL BREWING LLC  F-COM   \n17  10 BARREL BREWING COMPANY                10 BARREL BREWING LLC  DISTT   \n21            108 BAR & GRILL              BLEU POINTE CORPORATION  F-COM   \n34      13 VIRTUES BREWING CO  PHILADELPHIA'S STEAKS & HOAGIES INC     BP   \n\n   License Action Premises Street Address Premises City Prem County  \\\n14            NaN        1411 NW FLANDERS      PORTLAND   MULTNOMAH   \n15            NaN        1411 NW FLANDERS      PORTLAND   MULTNOMAH   \n17            NaN        1411 NW FLANDERS      PORTLAND   MULTNOMAH   \n21            NaN      10845 NE HALSEY ST      PORTLAND   MULTNOMAH   \n34            NaN   6410 SE MILWAUKIE AVE      PORTLAND   MULTNOMAH   \n\n   Prem State Prem Zip    Prem Phone          Mailing Address Mailing City  \\\n14         OR    97209  503-224-1700  ONE BUSCH PLACE / 202-1     ST LOUIS   \n15         OR    97209  503-224-1700  ONE BUSCH PLACE / 202-1     ST LOUIS   \n17         OR    97209           NaN  ONE BUSCH PLACE / 202-1     ST LOUIS   \n21         OR    97213  503-255-8833        10908 SE KNAPP ST     PORTLAND   \n34         OR    97202  503-239-8544                      NaN          NaN   \n\n   Mail State Mail Zip  Second Location to License No.  \n14         MO    63118                             NaN  \n15         MO    63118                             NaN  \n17         MO    63118                        278820.0  \n21         OR    97266                             NaN  \n34         OR      NaN                             NaN  "
                    }, 
                    "execution_count": 23, 
                    "metadata": {}
                }
            ], 
            "execution_count": 23
        }, 
        {
            "source": "OR_MULTNOMAH_Type.drop(['License No.', 'Premises No.', 'Effective Date', 'Expiration',\n        'Licensee Name',  'License Action',\n        'Prem Phone', 'Mailing Address', 'Mailing City',\n       'Mail State', 'Mail Zip', 'Second Location to License No.'], axis=1, inplace=True)", 
            "cell_type": "code", 
            "metadata": {}, 
            "outputs": [
                {
                    "output_type": "stream", 
                    "name": "stderr", 
                    "text": "/opt/conda/envs/DSX-Python35/lib/python3.5/site-packages/ipykernel/__main__.py:4: SettingWithCopyWarning: \nA value is trying to be set on a copy of a slice from a DataFrame\n\nSee the caveats in the documentation: http://pandas.pydata.org/pandas-docs/stable/indexing.html#indexing-view-versus-copy\n"
                }
            ], 
            "execution_count": 24
        }, 
        {
            "source": "OR_MULTNOMAH_Type.head()", 
            "cell_type": "code", 
            "metadata": {}, 
            "outputs": [
                {
                    "output_type": "execute_result", 
                    "data": {
                        "text/html": "<div>\n<style scoped>\n    .dataframe tbody tr th:only-of-type {\n        vertical-align: middle;\n    }\n\n    .dataframe tbody tr th {\n        vertical-align: top;\n    }\n\n    .dataframe thead th {\n        text-align: right;\n    }\n</style>\n<table border=\"1\" class=\"dataframe\">\n  <thead>\n    <tr style=\"text-align: right;\">\n      <th></th>\n      <th>Tradename</th>\n      <th>Type</th>\n      <th>Premises Street Address</th>\n      <th>Premises City</th>\n      <th>Prem County</th>\n      <th>Prem State</th>\n      <th>Prem Zip</th>\n    </tr>\n  </thead>\n  <tbody>\n    <tr>\n      <th>14</th>\n      <td>10 BARREL BREWING COMPANY</td>\n      <td>BRW</td>\n      <td>1411 NW FLANDERS</td>\n      <td>PORTLAND</td>\n      <td>MULTNOMAH</td>\n      <td>OR</td>\n      <td>97209</td>\n    </tr>\n    <tr>\n      <th>15</th>\n      <td>10 BARREL BREWING COMPANY</td>\n      <td>F-COM</td>\n      <td>1411 NW FLANDERS</td>\n      <td>PORTLAND</td>\n      <td>MULTNOMAH</td>\n      <td>OR</td>\n      <td>97209</td>\n    </tr>\n    <tr>\n      <th>17</th>\n      <td>10 BARREL BREWING COMPANY</td>\n      <td>DISTT</td>\n      <td>1411 NW FLANDERS</td>\n      <td>PORTLAND</td>\n      <td>MULTNOMAH</td>\n      <td>OR</td>\n      <td>97209</td>\n    </tr>\n    <tr>\n      <th>21</th>\n      <td>108 BAR &amp; GRILL</td>\n      <td>F-COM</td>\n      <td>10845 NE HALSEY ST</td>\n      <td>PORTLAND</td>\n      <td>MULTNOMAH</td>\n      <td>OR</td>\n      <td>97213</td>\n    </tr>\n    <tr>\n      <th>34</th>\n      <td>13 VIRTUES BREWING CO</td>\n      <td>BP</td>\n      <td>6410 SE MILWAUKIE AVE</td>\n      <td>PORTLAND</td>\n      <td>MULTNOMAH</td>\n      <td>OR</td>\n      <td>97202</td>\n    </tr>\n  </tbody>\n</table>\n</div>", 
                        "text/plain": "                    Tradename   Type Premises Street Address Premises City  \\\n14  10 BARREL BREWING COMPANY    BRW        1411 NW FLANDERS      PORTLAND   \n15  10 BARREL BREWING COMPANY  F-COM        1411 NW FLANDERS      PORTLAND   \n17  10 BARREL BREWING COMPANY  DISTT        1411 NW FLANDERS      PORTLAND   \n21            108 BAR & GRILL  F-COM      10845 NE HALSEY ST      PORTLAND   \n34      13 VIRTUES BREWING CO     BP   6410 SE MILWAUKIE AVE      PORTLAND   \n\n   Prem County Prem State Prem Zip  \n14   MULTNOMAH         OR    97209  \n15   MULTNOMAH         OR    97209  \n17   MULTNOMAH         OR    97209  \n21   MULTNOMAH         OR    97213  \n34   MULTNOMAH         OR    97202  "
                    }, 
                    "execution_count": 25, 
                    "metadata": {}
                }
            ], 
            "execution_count": 25
        }, 
        {
            "source": "Create arcgis search string and re-index", 
            "cell_type": "markdown", 
            "metadata": {}
        }, 
        {
            "source": "OR_MULTNOMAH_Type['Premises'] = OR_MULTNOMAH_Type['Premises Street Address'].astype(str) + ' , ' +  OR_MULTNOMAH_Type['Premises City'] + ' , ' + OR_MULTNOMAH_Type['Prem State']\nOR_MULTNOMAH_Type.reset_index(drop=True, inplace=True)\nOR_MULTNOMAH_Type.head()", 
            "cell_type": "code", 
            "metadata": {}, 
            "outputs": [
                {
                    "output_type": "stream", 
                    "name": "stderr", 
                    "text": "/opt/conda/envs/DSX-Python35/lib/python3.5/site-packages/ipykernel/__main__.py:1: SettingWithCopyWarning: \nA value is trying to be set on a copy of a slice from a DataFrame.\nTry using .loc[row_indexer,col_indexer] = value instead\n\nSee the caveats in the documentation: http://pandas.pydata.org/pandas-docs/stable/indexing.html#indexing-view-versus-copy\n  if __name__ == '__main__':\n"
                }, 
                {
                    "output_type": "execute_result", 
                    "data": {
                        "text/html": "<div>\n<style scoped>\n    .dataframe tbody tr th:only-of-type {\n        vertical-align: middle;\n    }\n\n    .dataframe tbody tr th {\n        vertical-align: top;\n    }\n\n    .dataframe thead th {\n        text-align: right;\n    }\n</style>\n<table border=\"1\" class=\"dataframe\">\n  <thead>\n    <tr style=\"text-align: right;\">\n      <th></th>\n      <th>Tradename</th>\n      <th>Type</th>\n      <th>Premises Street Address</th>\n      <th>Premises City</th>\n      <th>Prem County</th>\n      <th>Prem State</th>\n      <th>Prem Zip</th>\n      <th>Premises</th>\n    </tr>\n  </thead>\n  <tbody>\n    <tr>\n      <th>0</th>\n      <td>10 BARREL BREWING COMPANY</td>\n      <td>BRW</td>\n      <td>1411 NW FLANDERS</td>\n      <td>PORTLAND</td>\n      <td>MULTNOMAH</td>\n      <td>OR</td>\n      <td>97209</td>\n      <td>1411 NW FLANDERS , PORTLAND , OR</td>\n    </tr>\n    <tr>\n      <th>1</th>\n      <td>10 BARREL BREWING COMPANY</td>\n      <td>F-COM</td>\n      <td>1411 NW FLANDERS</td>\n      <td>PORTLAND</td>\n      <td>MULTNOMAH</td>\n      <td>OR</td>\n      <td>97209</td>\n      <td>1411 NW FLANDERS , PORTLAND , OR</td>\n    </tr>\n    <tr>\n      <th>2</th>\n      <td>10 BARREL BREWING COMPANY</td>\n      <td>DISTT</td>\n      <td>1411 NW FLANDERS</td>\n      <td>PORTLAND</td>\n      <td>MULTNOMAH</td>\n      <td>OR</td>\n      <td>97209</td>\n      <td>1411 NW FLANDERS , PORTLAND , OR</td>\n    </tr>\n    <tr>\n      <th>3</th>\n      <td>108 BAR &amp; GRILL</td>\n      <td>F-COM</td>\n      <td>10845 NE HALSEY ST</td>\n      <td>PORTLAND</td>\n      <td>MULTNOMAH</td>\n      <td>OR</td>\n      <td>97213</td>\n      <td>10845 NE HALSEY ST , PORTLAND , OR</td>\n    </tr>\n    <tr>\n      <th>4</th>\n      <td>13 VIRTUES BREWING CO</td>\n      <td>BP</td>\n      <td>6410 SE MILWAUKIE AVE</td>\n      <td>PORTLAND</td>\n      <td>MULTNOMAH</td>\n      <td>OR</td>\n      <td>97202</td>\n      <td>6410 SE MILWAUKIE AVE , PORTLAND , OR</td>\n    </tr>\n  </tbody>\n</table>\n</div>", 
                        "text/plain": "                   Tradename   Type Premises Street Address Premises City  \\\n0  10 BARREL BREWING COMPANY    BRW        1411 NW FLANDERS      PORTLAND   \n1  10 BARREL BREWING COMPANY  F-COM        1411 NW FLANDERS      PORTLAND   \n2  10 BARREL BREWING COMPANY  DISTT        1411 NW FLANDERS      PORTLAND   \n3            108 BAR & GRILL  F-COM      10845 NE HALSEY ST      PORTLAND   \n4      13 VIRTUES BREWING CO     BP   6410 SE MILWAUKIE AVE      PORTLAND   \n\n  Prem County Prem State Prem Zip                               Premises  \n0   MULTNOMAH         OR    97209       1411 NW FLANDERS , PORTLAND , OR  \n1   MULTNOMAH         OR    97209       1411 NW FLANDERS , PORTLAND , OR  \n2   MULTNOMAH         OR    97209       1411 NW FLANDERS , PORTLAND , OR  \n3   MULTNOMAH         OR    97213     10845 NE HALSEY ST , PORTLAND , OR  \n4   MULTNOMAH         OR    97202  6410 SE MILWAUKIE AVE , PORTLAND , OR  "
                    }, 
                    "execution_count": 26, 
                    "metadata": {}
                }
            ], 
            "execution_count": 26
        }, 
        {
            "source": "Write to csv, upload csv.", 
            "cell_type": "markdown", 
            "metadata": {}
        }, 
        {
            "source": "OR_MULTNOMAH_Type.to_csv(path_or_buf='OR_MULTNOMAH_Type.csv', index=True )\np = Path('./')\nlist(file.name for file in p.glob('*'))", 
            "cell_type": "code", 
            "metadata": {}, 
            "outputs": [
                {
                    "output_type": "execute_result", 
                    "data": {
                        "text/plain": "['OnPremise.csv',\n 'OLCC_Licenses.xls',\n 'WA_KING.csv',\n 'df_PDX.csv',\n 'OLCC_Licenses.csv',\n 'OR_MULTNOMAH_Type.csv',\n 'df_SEA.csv']"
                    }, 
                    "execution_count": 27, 
                    "metadata": {}
                }
            ], 
            "execution_count": 27
        }, 
        {
            "source": "upload_file_cos (credentials_3,'OR_MULTNOMAH_Type.csv','OR_MULTNOMAH_Type.csv')", 
            "cell_type": "code", 
            "metadata": {}, 
            "outputs": [
                {
                    "output_type": "stream", 
                    "name": "stdout", 
                    "text": "File Uploaded\n"
                }
            ], 
            "execution_count": 28
        }
    ], 
    "metadata": {
        "kernelspec": {
            "display_name": "Python 3.5", 
            "name": "python3", 
            "language": "python"
        }, 
        "language_info": {
            "mimetype": "text/x-python", 
            "nbconvert_exporter": "python", 
            "version": "3.5.5", 
            "name": "python", 
            "pygments_lexer": "ipython3", 
            "file_extension": ".py", 
            "codemirror_mode": {
                "version": 3, 
                "name": "ipython"
            }
        }
    }, 
    "nbformat": 4
}