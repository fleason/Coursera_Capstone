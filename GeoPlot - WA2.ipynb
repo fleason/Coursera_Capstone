{
    "nbformat_minor": 1, 
    "cells": [
        {
            "source": "from ibm_botocore.client import Config\nimport ibm_boto3", 
            "cell_type": "code", 
            "metadata": {}, 
            "outputs": [], 
            "execution_count": 1
        }, 
        {
            "source": "def upload_file_cos(credentials,local_file_name,key):  \n    cos = ibm_boto3.client(service_name='s3',\n    ibm_api_key_id=credentials['IBM_API_KEY_ID'],\n    ibm_service_instance_id=credentials['IAM_SERVICE_ID'],\n    ibm_auth_endpoint=credentials['IBM_AUTH_ENDPOINT'],\n    config=Config(signature_version='oauth'),\n    endpoint_url=credentials['ENDPOINT'])\n    try:\n        res=cos.upload_file(Filename=local_file_name, Bucket=credentials['BUCKET'],Key=key)\n    except Exception as e:\n        print(Exception, e)\n    else:\n        print('File Uploaded')", 
            "cell_type": "code", 
            "metadata": {}, 
            "outputs": [], 
            "execution_count": 2
        }, 
        {
            "source": "def download_file_cos(credentials,local_file_name,key):  \n    cos = ibm_boto3.client(service_name='s3',\n    ibm_api_key_id=credentials['IBM_API_KEY_ID'],\n    ibm_service_instance_id=credentials['IAM_SERVICE_ID'],\n    ibm_auth_endpoint=credentials['IBM_AUTH_ENDPOINT'],\n    config=Config(signature_version='oauth'),\n    endpoint_url=credentials['ENDPOINT'])\n    try:\n        res=cos.download_file(Bucket=credentials['BUCKET'],Key=key,Filename=local_file_name)\n    except Exception as e:\n        print(Exception, e)\n    else:\n        print('File Downloaded')", 
            "cell_type": "code", 
            "metadata": {}, 
            "outputs": [], 
            "execution_count": 3
        }, 
        {
            "source": "# @hidden_cell\n# The following code contains the credentials for a file in your IBM Cloud Object Storage.\n# You might want to remove those credentials before you share your notebook.\ncredentials_3 = {\n    'IAM_SERVICE_ID': 'iam-ServiceId-e5e81556-000f-4d93-86d4-b60748f7fe20',\n    'IBM_API_KEY_ID': 'aNSEN31wTP6yZ20pw5EHvlrvMRBa1wK97un-2eiazXn5',\n    'ENDPOINT': 'https://s3-api.us-geo.objectstorage.service.networklayer.com',\n    'IBM_AUTH_ENDPOINT': 'https://iam.bluemix.net/oidc/token',\n    'BUCKET': 'courseracapstone-donotdelete-pr-5lsxokvrardkjz',\n    'FILE': 'Neighborhoods.csv'\n}", 
            "cell_type": "code", 
            "metadata": {}, 
            "outputs": [], 
            "execution_count": 4
        }, 
        {
            "source": "import geopandas\nfrom shapely.geometry import Point # Shapely for converting latitude/longtitude to geometry\nfrom geopandas import GeoDataFrame\nimport geoplot\nimport geopy\nimport geoplot.crs as gcrs\nimport matplotlib.pyplot as plt\n#from scipy import stats\nimport seaborn as sns\n%matplotlib inline", 
            "cell_type": "code", 
            "metadata": {}, 
            "outputs": [], 
            "execution_count": 5
        }, 
        {
            "source": "!conda install --channel conda-forge ipywidgets nodejs --yes\nimport ipywidgets", 
            "cell_type": "code", 
            "metadata": {}, 
            "outputs": [
                {
                    "output_type": "stream", 
                    "name": "stdout", 
                    "text": "Solving environment: done\n\n## Package Plan ##\n\n  environment location: /opt/conda/envs/Python36\n\n  added / updated specs: \n    - ipywidgets\n    - nodejs\n\n\nThe following packages will be downloaded:\n\n    package                    |            build\n    ---------------------------|-----------------\n    openssl-1.1.1b             |       h14c3975_1         4.0 MB  conda-forge\n    ipywidgets-7.5.0           |             py_0         100 KB  conda-forge\n    nodejs-11.14.0             |       he1b5a44_1        16.6 MB  conda-forge\n    ca-certificates-2019.6.16  |       hecc5488_0         145 KB  conda-forge\n    certifi-2019.6.16          |           py36_0         148 KB  conda-forge\n    notebook-5.7.8             |           py36_1         5.9 MB  conda-forge\n    widgetsnbextension-3.5.0   |           py36_0         1.8 MB  conda-forge\n    cryptography-2.7           |   py36h72c5cf5_0         607 KB  conda-forge\n    ------------------------------------------------------------\n                                           Total:        29.2 MB\n\nThe following NEW packages will be INSTALLED:\n\n    nodejs:             11.14.0-he1b5a44_1 conda-forge\n\nThe following packages will be UPDATED:\n\n    ca-certificates:    2019.5.15-0                    --> 2019.6.16-hecc5488_0 conda-forge\n    certifi:            2019.6.16-py36_0               --> 2019.6.16-py36_0     conda-forge\n    cryptography:       2.7-py36h1ba5d50_0             --> 2.7-py36h72c5cf5_0   conda-forge\n    ipywidgets:         7.4.2-py36_0                   --> 7.5.0-py_0           conda-forge\n    notebook:           5.7.4-py36_0                   --> 5.7.8-py36_1         conda-forge\n    widgetsnbextension: 3.4.2-py36_0                   --> 3.5.0-py36_0         conda-forge\n\nThe following packages will be DOWNGRADED:\n\n    openssl:            1.1.1c-h7b6447c_1              --> 1.1.1b-h14c3975_1    conda-forge\n\n\nDownloading and Extracting Packages\nopenssl-1.1.1b       | 4.0 MB    | ##################################### | 100% \nipywidgets-7.5.0     | 100 KB    | ##################################### | 100% \nnodejs-11.14.0       | 16.6 MB   | ##################################### | 100% \nca-certificates-2019 | 145 KB    | ##################################### | 100% \ncertifi-2019.6.16    | 148 KB    | ##################################### | 100% \nnotebook-5.7.8       | 5.9 MB    | ##################################### | 100% \nwidgetsnbextension-3 | 1.8 MB    | ##################################### | 100% \ncryptography-2.7     | 607 KB    | ##################################### | 100% \nPreparing transaction: done\nVerifying transaction: done\nExecuting transaction: | Exception while loading config file /var/pod/.runtime/config/jupyter_notebook_config.py\n    Traceback (most recent call last):\n      File \"/opt/conda/envs/Python36/lib/python3.6/site-packages/traitlets/config/application.py\", line 562, in _load_config_files\n        config = loader.load_config()\n      File \"/opt/conda/envs/Python36/lib/python3.6/site-packages/traitlets/config/loader.py\", line 457, in load_config\n        self._read_file_as_dict()\n      File \"/opt/conda/envs/Python36/lib/python3.6/site-packages/traitlets/config/loader.py\", line 489, in _read_file_as_dict\n        py3compat.execfile(conf_filename, namespace)\n      File \"/opt/conda/envs/Python36/lib/python3.6/site-packages/ipython_genutils/py3compat.py\", line 198, in execfile\n        exec(compiler(f.read(), fname, 'exec'), glob, loc)\n      File \"/var/pod/.runtime/config/jupyter_notebook_config.py\", line 15, in <module>\n        from cdsax_jupyter_extensions.ax_log import ax_log_request\n    ModuleNotFoundError: No module named 'cdsax_jupyter_extensions'\nEnabling notebook extension jupyter-js-widgets/extension...\n      - Validating: \u001b[32mOK\u001b[0m\n\ndone\n"
                }
            ], 
            "execution_count": 8
        }, 
        {
            "source": "import requests # library to handle requests\nfrom pandas.io.json import json_normalize # tranform JSON file into a pandas dataframe\n\n# Matplotlib and associated plotting modules\nimport matplotlib.cm as cm\nimport matplotlib.colors as colors\n#from geopy.geocoders import Nominatim\nimport json\n#import fiona", 
            "cell_type": "code", 
            "metadata": {}, 
            "outputs": [], 
            "execution_count": 10
        }, 
        {
            "source": "from pathlib import Path\nfrom zipfile import ZipFile\nfrom io import BytesIO  ", 
            "cell_type": "code", 
            "metadata": {}, 
            "outputs": [], 
            "execution_count": 12
        }, 
        {
            "source": "download_file_cos(credentials_3,'WA_gdf_1.geojson','WA_gdf_1.geojson')\nWA_gdf_1 = geopandas.read_file('WA_gdf_1.geojson')", 
            "cell_type": "code", 
            "metadata": {}, 
            "outputs": [
                {
                    "output_type": "stream", 
                    "name": "stdout", 
                    "text": "File Downloaded\n"
                }
            ], 
            "execution_count": 6
        }, 
        {
            "source": "url = \"https://opendata.arcgis.com/datasets/17418ff4986440dcb7058b1c6533e94b_384.zip\"\ndf_SEA = geopandas.read_file(url)", 
            "cell_type": "code", 
            "metadata": {
                "scrolled": true
            }, 
            "outputs": [
                {
                    "output_type": "error", 
                    "evalue": "'/vsicurl/https://opendata.arcgis.com/datasets/17418ff4986440dcb7058b1c6533e94b_384.zip' not recognized as a supported file format.", 
                    "traceback": [
                        "\u001b[0;31m---------------------------------------------------------------------------\u001b[0m", 
                        "\u001b[0;31mCPLE_OpenFailedError\u001b[0m                      Traceback (most recent call last)", 
                        "\u001b[0;32mfiona/_shim.pyx\u001b[0m in \u001b[0;36mfiona._shim.gdal_open_vector\u001b[0;34m()\u001b[0m\n", 
                        "\u001b[0;32mfiona/_err.pyx\u001b[0m in \u001b[0;36mfiona._err.exc_wrap_pointer\u001b[0;34m()\u001b[0m\n", 
                        "\u001b[0;31mCPLE_OpenFailedError\u001b[0m: '/vsicurl/https://opendata.arcgis.com/datasets/17418ff4986440dcb7058b1c6533e94b_384.zip' not recognized as a supported file format.", 
                        "\nDuring handling of the above exception, another exception occurred:\n", 
                        "\u001b[0;31mDriverError\u001b[0m                               Traceback (most recent call last)", 
                        "\u001b[0;32m<ipython-input-13-e4566f62d6d0>\u001b[0m in \u001b[0;36m<module>\u001b[0;34m\u001b[0m\n\u001b[1;32m      1\u001b[0m \u001b[0murl\u001b[0m \u001b[0;34m=\u001b[0m \u001b[0;34m\"https://opendata.arcgis.com/datasets/17418ff4986440dcb7058b1c6533e94b_384.zip\"\u001b[0m\u001b[0;34m\u001b[0m\u001b[0;34m\u001b[0m\u001b[0m\n\u001b[0;32m----> 2\u001b[0;31m \u001b[0mdf_SEA\u001b[0m \u001b[0;34m=\u001b[0m \u001b[0mgeopandas\u001b[0m\u001b[0;34m.\u001b[0m\u001b[0mread_file\u001b[0m\u001b[0;34m(\u001b[0m\u001b[0murl\u001b[0m\u001b[0;34m)\u001b[0m\u001b[0;34m\u001b[0m\u001b[0;34m\u001b[0m\u001b[0m\n\u001b[0m", 
                        "\u001b[0;32m/opt/conda/envs/Python36/lib/python3.6/site-packages/geopandas/io/file.py\u001b[0m in \u001b[0;36mread_file\u001b[0;34m(filename, **kwargs)\u001b[0m\n\u001b[1;32m     17\u001b[0m     \"\"\"\n\u001b[1;32m     18\u001b[0m     \u001b[0mbbox\u001b[0m \u001b[0;34m=\u001b[0m \u001b[0mkwargs\u001b[0m\u001b[0;34m.\u001b[0m\u001b[0mpop\u001b[0m\u001b[0;34m(\u001b[0m\u001b[0;34m'bbox'\u001b[0m\u001b[0;34m,\u001b[0m \u001b[0;32mNone\u001b[0m\u001b[0;34m)\u001b[0m\u001b[0;34m\u001b[0m\u001b[0;34m\u001b[0m\u001b[0m\n\u001b[0;32m---> 19\u001b[0;31m     \u001b[0;32mwith\u001b[0m \u001b[0mfiona\u001b[0m\u001b[0;34m.\u001b[0m\u001b[0mopen\u001b[0m\u001b[0;34m(\u001b[0m\u001b[0mfilename\u001b[0m\u001b[0;34m,\u001b[0m \u001b[0;34m**\u001b[0m\u001b[0mkwargs\u001b[0m\u001b[0;34m)\u001b[0m \u001b[0;32mas\u001b[0m \u001b[0mf\u001b[0m\u001b[0;34m:\u001b[0m\u001b[0;34m\u001b[0m\u001b[0;34m\u001b[0m\u001b[0m\n\u001b[0m\u001b[1;32m     20\u001b[0m         \u001b[0mcrs\u001b[0m \u001b[0;34m=\u001b[0m \u001b[0mf\u001b[0m\u001b[0;34m.\u001b[0m\u001b[0mcrs\u001b[0m\u001b[0;34m\u001b[0m\u001b[0;34m\u001b[0m\u001b[0m\n\u001b[1;32m     21\u001b[0m         \u001b[0;32mif\u001b[0m \u001b[0mbbox\u001b[0m \u001b[0;32mis\u001b[0m \u001b[0;32mnot\u001b[0m \u001b[0;32mNone\u001b[0m\u001b[0;34m:\u001b[0m\u001b[0;34m\u001b[0m\u001b[0;34m\u001b[0m\u001b[0m\n", 
                        "\u001b[0;32m/opt/conda/envs/Python36/lib/python3.6/site-packages/fiona/env.py\u001b[0m in \u001b[0;36mwrapper\u001b[0;34m(*args, **kwargs)\u001b[0m\n\u001b[1;32m    403\u001b[0m             \u001b[0;32mwith\u001b[0m \u001b[0mEnv\u001b[0m\u001b[0;34m.\u001b[0m\u001b[0mfrom_defaults\u001b[0m\u001b[0;34m(\u001b[0m\u001b[0msession\u001b[0m\u001b[0;34m=\u001b[0m\u001b[0msession\u001b[0m\u001b[0;34m)\u001b[0m\u001b[0;34m:\u001b[0m\u001b[0;34m\u001b[0m\u001b[0;34m\u001b[0m\u001b[0m\n\u001b[1;32m    404\u001b[0m                 \u001b[0mlog\u001b[0m\u001b[0;34m.\u001b[0m\u001b[0mdebug\u001b[0m\u001b[0;34m(\u001b[0m\u001b[0;34m\"Credentialized: {!r}\"\u001b[0m\u001b[0;34m.\u001b[0m\u001b[0mformat\u001b[0m\u001b[0;34m(\u001b[0m\u001b[0mgetenv\u001b[0m\u001b[0;34m(\u001b[0m\u001b[0;34m)\u001b[0m\u001b[0;34m)\u001b[0m\u001b[0;34m)\u001b[0m\u001b[0;34m\u001b[0m\u001b[0;34m\u001b[0m\u001b[0m\n\u001b[0;32m--> 405\u001b[0;31m                 \u001b[0;32mreturn\u001b[0m \u001b[0mf\u001b[0m\u001b[0;34m(\u001b[0m\u001b[0;34m*\u001b[0m\u001b[0margs\u001b[0m\u001b[0;34m,\u001b[0m \u001b[0;34m**\u001b[0m\u001b[0mkwargs\u001b[0m\u001b[0;34m)\u001b[0m\u001b[0;34m\u001b[0m\u001b[0;34m\u001b[0m\u001b[0m\n\u001b[0m\u001b[1;32m    406\u001b[0m     \u001b[0;32mreturn\u001b[0m \u001b[0mwrapper\u001b[0m\u001b[0;34m\u001b[0m\u001b[0;34m\u001b[0m\u001b[0m\n\u001b[1;32m    407\u001b[0m \u001b[0;34m\u001b[0m\u001b[0m\n", 
                        "\u001b[0;32m/opt/conda/envs/Python36/lib/python3.6/site-packages/fiona/__init__.py\u001b[0m in \u001b[0;36mopen\u001b[0;34m(fp, mode, driver, schema, crs, encoding, layer, vfs, enabled_drivers, crs_wkt, **kwargs)\u001b[0m\n\u001b[1;32m    251\u001b[0m         \u001b[0;32mif\u001b[0m \u001b[0mmode\u001b[0m \u001b[0;32min\u001b[0m \u001b[0;34m(\u001b[0m\u001b[0;34m'a'\u001b[0m\u001b[0;34m,\u001b[0m \u001b[0;34m'r'\u001b[0m\u001b[0;34m)\u001b[0m\u001b[0;34m:\u001b[0m\u001b[0;34m\u001b[0m\u001b[0;34m\u001b[0m\u001b[0m\n\u001b[1;32m    252\u001b[0m             c = Collection(path, mode, driver=driver, encoding=encoding,\n\u001b[0;32m--> 253\u001b[0;31m                            layer=layer, enabled_drivers=enabled_drivers, **kwargs)\n\u001b[0m\u001b[1;32m    254\u001b[0m         \u001b[0;32melif\u001b[0m \u001b[0mmode\u001b[0m \u001b[0;34m==\u001b[0m \u001b[0;34m'w'\u001b[0m\u001b[0;34m:\u001b[0m\u001b[0;34m\u001b[0m\u001b[0;34m\u001b[0m\u001b[0m\n\u001b[1;32m    255\u001b[0m             \u001b[0;32mif\u001b[0m \u001b[0mschema\u001b[0m\u001b[0;34m:\u001b[0m\u001b[0;34m\u001b[0m\u001b[0;34m\u001b[0m\u001b[0m\n", 
                        "\u001b[0;32m/opt/conda/envs/Python36/lib/python3.6/site-packages/fiona/collection.py\u001b[0m in \u001b[0;36m__init__\u001b[0;34m(self, path, mode, driver, schema, crs, encoding, layer, vsi, archive, enabled_drivers, crs_wkt, ignore_fields, ignore_geometry, **kwargs)\u001b[0m\n\u001b[1;32m    157\u001b[0m             \u001b[0;32mif\u001b[0m \u001b[0mself\u001b[0m\u001b[0;34m.\u001b[0m\u001b[0mmode\u001b[0m \u001b[0;34m==\u001b[0m \u001b[0;34m'r'\u001b[0m\u001b[0;34m:\u001b[0m\u001b[0;34m\u001b[0m\u001b[0;34m\u001b[0m\u001b[0m\n\u001b[1;32m    158\u001b[0m                 \u001b[0mself\u001b[0m\u001b[0;34m.\u001b[0m\u001b[0msession\u001b[0m \u001b[0;34m=\u001b[0m \u001b[0mSession\u001b[0m\u001b[0;34m(\u001b[0m\u001b[0;34m)\u001b[0m\u001b[0;34m\u001b[0m\u001b[0;34m\u001b[0m\u001b[0m\n\u001b[0;32m--> 159\u001b[0;31m                 \u001b[0mself\u001b[0m\u001b[0;34m.\u001b[0m\u001b[0msession\u001b[0m\u001b[0;34m.\u001b[0m\u001b[0mstart\u001b[0m\u001b[0;34m(\u001b[0m\u001b[0mself\u001b[0m\u001b[0;34m,\u001b[0m \u001b[0;34m**\u001b[0m\u001b[0mkwargs\u001b[0m\u001b[0;34m)\u001b[0m\u001b[0;34m\u001b[0m\u001b[0;34m\u001b[0m\u001b[0m\n\u001b[0m\u001b[1;32m    160\u001b[0m             \u001b[0;32melif\u001b[0m \u001b[0mself\u001b[0m\u001b[0;34m.\u001b[0m\u001b[0mmode\u001b[0m \u001b[0;32min\u001b[0m \u001b[0;34m(\u001b[0m\u001b[0;34m'a'\u001b[0m\u001b[0;34m,\u001b[0m \u001b[0;34m'w'\u001b[0m\u001b[0;34m)\u001b[0m\u001b[0;34m:\u001b[0m\u001b[0;34m\u001b[0m\u001b[0;34m\u001b[0m\u001b[0m\n\u001b[1;32m    161\u001b[0m                 \u001b[0mself\u001b[0m\u001b[0;34m.\u001b[0m\u001b[0msession\u001b[0m \u001b[0;34m=\u001b[0m \u001b[0mWritingSession\u001b[0m\u001b[0;34m(\u001b[0m\u001b[0;34m)\u001b[0m\u001b[0;34m\u001b[0m\u001b[0;34m\u001b[0m\u001b[0m\n", 
                        "\u001b[0;32mfiona/ogrext.pyx\u001b[0m in \u001b[0;36mfiona.ogrext.Session.start\u001b[0;34m()\u001b[0m\n", 
                        "\u001b[0;32mfiona/_shim.pyx\u001b[0m in \u001b[0;36mfiona._shim.gdal_open_vector\u001b[0;34m()\u001b[0m\n", 
                        "\u001b[0;31mDriverError\u001b[0m: '/vsicurl/https://opendata.arcgis.com/datasets/17418ff4986440dcb7058b1c6533e94b_384.zip' not recognized as a supported file format."
                    ], 
                    "ename": "DriverError"
                }
            ], 
            "execution_count": 13
        }, 
        {
            "source": "fig = plt.figure(figsize=(60,36))\nplt.rcParams['figure.figsize'] = (60,36)", 
            "cell_type": "code", 
            "metadata": {}, 
            "outputs": [], 
            "execution_count": null
        }, 
        {
            "source": "ax1 = plt.subplot(121, projection=gcrs.AlbersEqualArea(central_latitude=47.5, central_longitude=-122.1))\ngeoplot.polyplot(df_SEA, ax=ax1, projection=gcrs.AlbersEqualArea())\ngeoplot.pointplot(WA_gdf_1, projection=gcrs.AlbersEqualArea(),\n               hue='Loc City', categorical=True,\n               edgecolor='white', linewidth=0.5, zorder=10,\n#               scale='NUMBER OF DRINKING ESTABLISMENTS', \n                limits=(2, 8),\n               legend=True, legend_var='scale', legend_kwargs={'loc': 'upper right'},\n#              legend_values=[2, 1], \n#                 legend_labels=['2 Establishments', '1 Establishment'],\n               ax=ax1)\nplt.title(\"Drinking Establishments in King County\")\n\nplt.savefig(\"King_County_Dist.png\", bbox_inches='tight', pad_inches=0)", 
            "cell_type": "code", 
            "metadata": {}, 
            "outputs": [], 
            "execution_count": null
        }, 
        {
            "source": "upload_file_cos(credentials_3,'King_County_Dist.png','King_County_Dist.png')", 
            "cell_type": "code", 
            "metadata": {}, 
            "outputs": [], 
            "execution_count": null
        }
    ], 
    "metadata": {
        "kernelspec": {
            "display_name": "Python 3.6", 
            "name": "python3", 
            "language": "python"
        }, 
        "language_info": {
            "mimetype": "text/x-python", 
            "nbconvert_exporter": "python", 
            "version": "3.6.8", 
            "name": "python", 
            "pygments_lexer": "ipython3", 
            "file_extension": ".py", 
            "codemirror_mode": {
                "version": 3, 
                "name": "ipython"
            }
        }
    }, 
    "nbformat": 4
}